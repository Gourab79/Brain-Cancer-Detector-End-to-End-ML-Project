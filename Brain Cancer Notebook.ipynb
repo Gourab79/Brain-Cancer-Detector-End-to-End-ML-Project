{
 "cells": [
  {
   "cell_type": "code",
   "execution_count": 1,
   "id": "f73ca6ec",
   "metadata": {},
   "outputs": [],
   "source": [
    "import pandas as pd\n",
    "import PIL\n",
    "import numpy as np\n",
    "import cv2\n",
    "import tensorflow as tf\n",
    "import matplotlib.pyplot as plt\n",
    "import seaborn as sns\n",
    "import pathlib\n",
    "from sklearn.model_selection import train_test_split\n",
    "import cv2 as cv\n",
    "import numpy as np\n",
    "from tensorflow.keras.models import load_model\n",
    "from tensorflow.keras.models import save_model\n",
    "from xgboost import XGBClassifier\n",
    "from sklearn.metrics import classification_report\n",
    "from sklearn.metrics import accuracy_score\n",
    "import mlflow as mf"
   ]
  },
  {
   "cell_type": "code",
   "execution_count": 2,
   "id": "c44dfe1a",
   "metadata": {},
   "outputs": [],
   "source": [
    "\n",
    "# Labeling function to convert path into Windows Path:\n",
    "def Labeller(path):\n",
    "    \n",
    "    path = pathlib.Path(path)\n",
    "    path=(list(path.glob(\"*.jpg\")))\n",
    "    return path\n"
   ]
  },
  {
   "cell_type": "code",
   "execution_count": 3,
   "id": "25999aef",
   "metadata": {},
   "outputs": [],
   "source": [
    "# cancer type stored in each folder's path \n",
    "Glioma=\"C:/Users/chakr/OneDrive/Desktop/Projects/Brain Tumor Detection End to End ML Project/Train/Glioma/images\"\n",
    "Meningioma=\"C:/Users/chakr/OneDrive/Desktop/Projects/Brain Tumor Detection End to End ML Project/Train/Meningioma/images\"\n",
    "No_Tumor =\"C:/Users/chakr/OneDrive/Desktop/Projects/Brain Tumor Detection End to End ML Project/Train/No Tumor/images\"\n",
    "Pituitary=\"C:/Users/chakr/OneDrive/Desktop/Projects/Brain Tumor Detection End to End ML Project/Train/Pituitary/images\"\n",
    "cancer_types = [\"Glioma\",\"Meningioma\",\"No Tumor\",\"Pituitary\"]\n",
    "\n",
    "# Apllying Labeller\n",
    "Glioma  = Labeller(Glioma)\n",
    "Meningioma  = Labeller(Meningioma)\n",
    "No_Tumor  = Labeller(No_Tumor)\n",
    "Pituitary  = Labeller(Pituitary)\n",
    "Cancer_type_list =[Glioma,Meningioma,No_Tumor,Pituitary]\n",
    "PIL.Image.open(Glioma[50])\n",
    "\n",
    "# Label Dictionary for each type\n",
    "Cancer_label = {\n",
    "    \"Glioma\":0,\n",
    "    \"Meningioma\": 1,\n",
    "    \"No_Tumor\":2,\n",
    "    \"Pituitary\":3}"
   ]
  },
  {
   "cell_type": "code",
   "execution_count": 4,
   "id": "7ac69a21",
   "metadata": {},
   "outputs": [],
   "source": [
    "# creating x and y by creating list with image array and image labels by zip method\n",
    "x = []\n",
    "y = []\n",
    "for cancer_type, label in zip(Cancer_type_list, Cancer_label.values()):\n",
    "    for j in cancer_type:\n",
    "        vector = cv.imread(str(j))\n",
    "        vector = cv.resize(vector, (180, 180))\n",
    "        x.append(vector)\n",
    "        y.append(label)"
   ]
  },
  {
   "cell_type": "code",
   "execution_count": 5,
   "id": "2c98476e",
   "metadata": {},
   "outputs": [],
   "source": [
    "\n",
    "x = np.array(x)\n",
    "y = np.array(y)\n",
    "x.shape\n",
    "#\n",
    "# Splitting of data\n",
    "x_train, x_test, y_train, y_test = train_test_split(x, y, random_state=0)\n",
    "\n",
    "x_train_scaled = x_train/255.0\n",
    "x_test_scaled = x_test/255.0"
   ]
  },
  {
   "cell_type": "code",
   "execution_count": 6,
   "id": "1f0b1efa",
   "metadata": {},
   "outputs": [
    {
     "name": "stderr",
     "output_type": "stream",
     "text": [
      "C:\\Users\\chakr\\anaconda3\\Lib\\site-packages\\keras\\src\\layers\\preprocessing\\tf_data_layer.py:19: UserWarning: Do not pass an `input_shape`/`input_dim` argument to a layer. When using Sequential models, prefer using an `Input(shape)` object as the first layer in the model instead.\n",
      "  super().__init__(**kwargs)\n"
     ]
    }
   ],
   "source": [
    "# data augmentation : here I rotated 20%, zoomed 20% of my total images and added usesd that in my model\n",
    "data_augmentation = tf.keras.Sequential(\n",
    "  [\n",
    "    tf.keras.layers.RandomFlip(\"horizontal\",input_shape=(180, 180,3)),\n",
    "    tf.keras.layers.RandomRotation(0.2),\n",
    "    tf.keras.layers.RandomZoom(0.2)\n",
    "#     tf.image.stateless_random_brightness(0.1)\n",
    "\n",
    "      \n",
    "  ]\n",
    ")"
   ]
  },
  {
   "cell_type": "code",
   "execution_count": 7,
   "id": "12b04ab4",
   "metadata": {},
   "outputs": [
    {
     "name": "stdout",
     "output_type": "stream",
     "text": [
      "Epoch 1/24\n"
     ]
    },
    {
     "name": "stderr",
     "output_type": "stream",
     "text": [
      "C:\\Users\\chakr\\anaconda3\\Lib\\site-packages\\keras\\src\\backend\\tensorflow\\nn.py:635: UserWarning: \"`sparse_categorical_crossentropy` received `from_logits=True`, but the `output` argument was produced by a Softmax activation and thus does not represent logits. Was this intended?\n",
      "  output, from_logits = _get_logits(\n"
     ]
    },
    {
     "name": "stdout",
     "output_type": "stream",
     "text": [
      "\u001b[1m89/89\u001b[0m \u001b[32m━━━━━━━━━━━━━━━━━━━━\u001b[0m\u001b[37m\u001b[0m \u001b[1m31s\u001b[0m 241ms/step - accuracy: 0.3100 - loss: 1.3709 - val_accuracy: 0.2911 - val_loss: 1.3560\n",
      "Epoch 2/24\n",
      "\u001b[1m89/89\u001b[0m \u001b[32m━━━━━━━━━━━━━━━━━━━━\u001b[0m\u001b[37m\u001b[0m \u001b[1m19s\u001b[0m 208ms/step - accuracy: 0.3480 - loss: 1.2940 - val_accuracy: 0.4993 - val_loss: 1.0585\n",
      "Epoch 3/24\n",
      "\u001b[1m89/89\u001b[0m \u001b[32m━━━━━━━━━━━━━━━━━━━━\u001b[0m\u001b[37m\u001b[0m \u001b[1m19s\u001b[0m 208ms/step - accuracy: 0.5250 - loss: 1.1098 - val_accuracy: 0.6540 - val_loss: 0.8818\n",
      "Epoch 4/24\n",
      "\u001b[1m89/89\u001b[0m \u001b[32m━━━━━━━━━━━━━━━━━━━━\u001b[0m\u001b[37m\u001b[0m \u001b[1m18s\u001b[0m 204ms/step - accuracy: 0.5917 - loss: 0.9755 - val_accuracy: 0.6821 - val_loss: 0.8349\n",
      "Epoch 5/24\n",
      "\u001b[1m89/89\u001b[0m \u001b[32m━━━━━━━━━━━━━━━━━━━━\u001b[0m\u001b[37m\u001b[0m \u001b[1m19s\u001b[0m 212ms/step - accuracy: 0.6149 - loss: 0.9347 - val_accuracy: 0.6948 - val_loss: 0.8033\n",
      "Epoch 6/24\n",
      "\u001b[1m89/89\u001b[0m \u001b[32m━━━━━━━━━━━━━━━━━━━━\u001b[0m\u001b[37m\u001b[0m \u001b[1m19s\u001b[0m 217ms/step - accuracy: 0.6428 - loss: 0.8724 - val_accuracy: 0.7229 - val_loss: 0.7519\n",
      "Epoch 7/24\n",
      "\u001b[1m89/89\u001b[0m \u001b[32m━━━━━━━━━━━━━━━━━━━━\u001b[0m\u001b[37m\u001b[0m \u001b[1m18s\u001b[0m 195ms/step - accuracy: 0.6569 - loss: 0.8539 - val_accuracy: 0.6273 - val_loss: 0.8347\n",
      "Epoch 8/24\n",
      "\u001b[1m89/89\u001b[0m \u001b[32m━━━━━━━━━━━━━━━━━━━━\u001b[0m\u001b[37m\u001b[0m \u001b[1m19s\u001b[0m 209ms/step - accuracy: 0.6658 - loss: 0.8203 - val_accuracy: 0.7370 - val_loss: 0.7171\n",
      "Epoch 9/24\n",
      "\u001b[1m89/89\u001b[0m \u001b[32m━━━━━━━━━━━━━━━━━━━━\u001b[0m\u001b[37m\u001b[0m \u001b[1m20s\u001b[0m 218ms/step - accuracy: 0.7031 - loss: 0.7755 - val_accuracy: 0.7271 - val_loss: 0.7438\n",
      "Epoch 10/24\n",
      "\u001b[1m89/89\u001b[0m \u001b[32m━━━━━━━━━━━━━━━━━━━━\u001b[0m\u001b[37m\u001b[0m \u001b[1m27s\u001b[0m 305ms/step - accuracy: 0.6976 - loss: 0.7486 - val_accuracy: 0.7454 - val_loss: 0.6804\n",
      "Epoch 13/24\n",
      "\u001b[1m89/89\u001b[0m \u001b[32m━━━━━━━━━━━━━━━━━━━━\u001b[0m\u001b[37m\u001b[0m \u001b[1m19s\u001b[0m 205ms/step - accuracy: 0.7110 - loss: 0.7247 - val_accuracy: 0.7525 - val_loss: 0.6745\n",
      "Epoch 14/24\n",
      "\u001b[1m89/89\u001b[0m \u001b[32m━━━━━━━━━━━━━━━━━━━━\u001b[0m\u001b[37m\u001b[0m \u001b[1m18s\u001b[0m 205ms/step - accuracy: 0.7113 - loss: 0.7196 - val_accuracy: 0.7468 - val_loss: 0.6462\n",
      "Epoch 15/24\n",
      "\u001b[1m89/89\u001b[0m \u001b[32m━━━━━━━━━━━━━━━━━━━━\u001b[0m\u001b[37m\u001b[0m \u001b[1m19s\u001b[0m 212ms/step - accuracy: 0.7195 - loss: 0.6859 - val_accuracy: 0.7623 - val_loss: 0.6202\n",
      "Epoch 16/24\n",
      "\u001b[1m89/89\u001b[0m \u001b[32m━━━━━━━━━━━━━━━━━━━━\u001b[0m\u001b[37m\u001b[0m \u001b[1m19s\u001b[0m 214ms/step - accuracy: 0.7307 - loss: 0.6895 - val_accuracy: 0.7581 - val_loss: 0.6256\n",
      "Epoch 17/24\n",
      "\u001b[1m89/89\u001b[0m \u001b[32m━━━━━━━━━━━━━━━━━━━━\u001b[0m\u001b[37m\u001b[0m \u001b[1m18s\u001b[0m 201ms/step - accuracy: 0.7401 - loss: 0.6600 - val_accuracy: 0.7482 - val_loss: 0.5926\n",
      "Epoch 18/24\n",
      "\u001b[1m89/89\u001b[0m \u001b[32m━━━━━━━━━━━━━━━━━━━━\u001b[0m\u001b[37m\u001b[0m \u001b[1m21s\u001b[0m 204ms/step - accuracy: 0.7492 - loss: 0.6295 - val_accuracy: 0.7679 - val_loss: 0.5834\n",
      "Epoch 19/24\n",
      "\u001b[1m89/89\u001b[0m \u001b[32m━━━━━━━━━━━━━━━━━━━━\u001b[0m\u001b[37m\u001b[0m \u001b[1m21s\u001b[0m 235ms/step - accuracy: 0.7335 - loss: 0.6432 - val_accuracy: 0.7342 - val_loss: 0.6172\n",
      "Epoch 20/24\n",
      "\u001b[1m89/89\u001b[0m \u001b[32m━━━━━━━━━━━━━━━━━━━━\u001b[0m\u001b[37m\u001b[0m \u001b[1m22s\u001b[0m 248ms/step - accuracy: 0.7408 - loss: 0.6348 - val_accuracy: 0.7989 - val_loss: 0.5572\n",
      "Epoch 21/24\n",
      "\u001b[1m89/89\u001b[0m \u001b[32m━━━━━━━━━━━━━━━━━━━━\u001b[0m\u001b[37m\u001b[0m \u001b[1m18s\u001b[0m 201ms/step - accuracy: 0.7562 - loss: 0.6236 - val_accuracy: 0.7904 - val_loss: 0.5486\n",
      "Epoch 22/24\n",
      "\u001b[1m89/89\u001b[0m \u001b[32m━━━━━━━━━━━━━━━━━━━━\u001b[0m\u001b[37m\u001b[0m \u001b[1m18s\u001b[0m 200ms/step - accuracy: 0.7560 - loss: 0.5958 - val_accuracy: 0.7665 - val_loss: 0.5947\n",
      "Epoch 23/24\n",
      "\u001b[1m89/89\u001b[0m \u001b[32m━━━━━━━━━━━━━━━━━━━━\u001b[0m\u001b[37m\u001b[0m \u001b[1m18s\u001b[0m 199ms/step - accuracy: 0.7778 - loss: 0.5761 - val_accuracy: 0.7834 - val_loss: 0.5669\n",
      "Epoch 24/24\n",
      "\u001b[1m89/89\u001b[0m \u001b[32m━━━━━━━━━━━━━━━━━━━━\u001b[0m\u001b[37m\u001b[0m \u001b[1m18s\u001b[0m 199ms/step - accuracy: 0.7794 - loss: 0.5837 - val_accuracy: 0.7707 - val_loss: 0.5886\n"
     ]
    }
   ],
   "source": [
    "# CNN_model\n",
    "num_classes = 4\n",
    "\n",
    "CNN_model = tf.keras.Sequential([\n",
    "  data_augmentation,\n",
    "    tf.keras.layers.Conv2D(kernel_size=(4, 4), padding='same', activation='relu',strides=(2,2),filters=25),\n",
    "#   tf.keras.layers.MaxPooling2D(),\n",
    "   tf.keras.layers.Conv2D(kernel_size=(4, 4), padding='same', activation='relu',strides=(2,2),filters=25),\n",
    "#    tf.keras.layers.MaxPooling2D(),\n",
    "  \n",
    "   tf.keras.layers.Conv2D(kernel_size=(4, 4), padding='same', activation='relu',strides=(2,2),filters=25),\n",
    "  tf.keras.layers.MaxPooling2D(2,2),\n",
    "  tf.keras.layers.Conv2D(16, 3, padding='same', activation='relu'),\n",
    "  tf.keras.layers.MaxPooling2D(2,2),\n",
    "  tf.keras.layers.Conv2D(16, 3, padding='same', activation='relu'),\n",
    "  tf.keras.layers.MaxPooling2D(2,2),\n",
    "  tf.keras.layers.Conv2D(16, 3, padding='same', activation='relu'),\n",
    "  tf.keras.layers.MaxPooling2D(2,2),\n",
    "  tf.keras.layers.Dropout(0.2),\n",
    "  tf.keras.layers.Flatten(),\n",
    "  tf.keras.layers.Dense(128, activation='relu'),\n",
    "   tf.keras.layers.Dense(64, activation='relu'),\n",
    "    tf.keras.layers.Dense(12, activation='relu'),\n",
    "  tf.keras.layers.Dense(num_classes, activation = \"softmax\")\n",
    "])\n",
    "# Compiling the model with Adam optimizer and sparse categorical crossentropy loss\n",
    "CNN_model.compile(optimizer='adam',\n",
    "              loss=tf.keras.losses.SparseCategoricalCrossentropy(from_logits=True),\n",
    "              metrics=['accuracy'])\n",
    "# fitting          \n",
    "history=CNN_model.fit(x_train_scaled, y_train, epochs=24,validation_split=0.2)"
   ]
  },
  {
   "cell_type": "code",
   "execution_count": 8,
   "id": "fbadd5d0",
   "metadata": {},
   "outputs": [
    {
     "name": "stdout",
     "output_type": "stream",
     "text": [
      "\u001b[1m38/38\u001b[0m \u001b[32m━━━━━━━━━━━━━━━━━━━━\u001b[0m\u001b[37m\u001b[0m \u001b[1m3s\u001b[0m 47ms/step\n",
      "Classification Report:\n",
      "              precision    recall  f1-score   support\n",
      "\n",
      "      Glioma       0.63      0.77      0.69       287\n",
      "  Meningioma       0.66      0.71      0.69       349\n",
      "    No_Tumor       0.92      0.66      0.77       182\n",
      "   Pituitary       0.90      0.80      0.85       367\n",
      "\n",
      "    accuracy                           0.75      1185\n",
      "   macro avg       0.78      0.74      0.75      1185\n",
      "weighted avg       0.77      0.75      0.75      1185\n",
      "\n"
     ]
    }
   ],
   "source": [
    "from sklearn.metrics import classification_report\n",
    "import numpy as np\n",
    "\n",
    "# predictions for the test or validation data\n",
    "y_pred_prob = CNN_model.predict(x_test_scaled)  # Predict probabilities\n",
    "y_pred = np.argmax(y_pred_prob, axis=1)         # Convert to predicted class labels\n",
    "\n",
    "# Generating classification report\n",
    "print(\"Classification Report:\")\n",
    "print(classification_report(y_test, y_pred, target_names=['Glioma', 'Meningioma', 'No_Tumor', 'Pituitary']))\n"
   ]
  },
  {
   "cell_type": "code",
   "execution_count": 9,
   "id": "7c3b986c",
   "metadata": {},
   "outputs": [],
   "source": [
    "# Saved model for use\n",
    "save_model(CNN_model,\"C:/Users/chakr/OneDrive/Desktop/Projects/Brain Tumor Detection End to End ML Project/model.keras\")"
   ]
  },
  {
   "cell_type": "code",
   "execution_count": 10,
   "id": "1947b2dd",
   "metadata": {},
   "outputs": [],
   "source": [
    "# loaded model after saving it in local\n",
    "loaded_model=load_model(\"C:/Users/chakr/OneDrive/Desktop/Projects/Brain Tumor Detection End to End ML Project/model.keras\")"
   ]
  },
  {
   "cell_type": "code",
   "execution_count": 11,
   "id": "a76e314d",
   "metadata": {},
   "outputs": [],
   "source": [
    "###   Machine Learning Engineer  ###\n",
    "# This section initializes MLflow for tracking the brain cancer detection project.\n",
    "# It sets up the experiment, logs model parameters and metrics, and saves the trained model."
   ]
  },
  {
   "cell_type": "code",
   "execution_count": 25,
   "id": "53f383e6",
   "metadata": {},
   "outputs": [
    {
     "name": "stderr",
     "output_type": "stream",
     "text": [
      "2024/09/09 20:15:09 INFO mlflow.tracking.fluent: Experiment with name 'Brain Cancer Detection' does not exist. Creating a new experiment.\n"
     ]
    },
    {
     "data": {
      "text/plain": [
       "<Experiment: artifact_location='mlflow-artifacts:/776d24ce681b4c33b9f5825c9b09a105', creation_time=1725893107729, experiment_id='0', last_update_time=1725893107729, lifecycle_stage='active', name='Brain Cancer Detection', tags={}>"
      ]
     },
     "execution_count": 25,
     "metadata": {},
     "output_type": "execute_result"
    }
   ],
   "source": [
    "# Setting up experiment. Can be done from mlflow on localhost as well\n",
    "# write mlflow ui on git bash to open mlflow locally \n",
    "mf.set_experiment(\"Brain Cancer Detection\")\n"
   ]
  },
  {
   "cell_type": "code",
   "execution_count": null,
   "id": "7f3806e3",
   "metadata": {},
   "outputs": [],
   "source": [
    "# before going forward. create a repo with this notebook and the saved_model, then continue \n",
    "# create a dagshub account and connect it with github"
   ]
  },
  {
   "cell_type": "code",
   "execution_count": 26,
   "id": "9ed278ff",
   "metadata": {},
   "outputs": [],
   "source": [
    "# setting env \n",
    "import os\n",
    "os.environ[\"MLFLOW_TRACKING_USERNAME\"] = \"Gourab79\"\n",
    "os.environ[\"MLFLOW_TRACKING_PASSWORD\"]= \"2ea2fe15c57225c20b878205648ef203d363cbf6\"\n",
    "os.environ[\"MLFLOW_TRACKING_URI\"] = \"https://dagshub.com/Gourab79/Brain-Cancer-Detector-End-to-End-ML-Project.mlflow\""
   ]
  },
  {
   "cell_type": "code",
   "execution_count": 27,
   "id": "8c4b65a4",
   "metadata": {},
   "outputs": [
    {
     "data": {
      "text/html": [
       "<pre style=\"white-space:pre;overflow-x:auto;line-height:normal;font-family:Menlo,'DejaVu Sans Mono',consolas,'Courier New',monospace\">Initialized MLflow to track repo <span style=\"color: #008000; text-decoration-color: #008000\">\"Gourab79/Brain-Cancer-Detector-End-to-End-ML-Project\"</span>\n",
       "</pre>\n"
      ],
      "text/plain": [
       "Initialized MLflow to track repo \u001b[32m\"Gourab79/Brain-Cancer-Detector-End-to-End-ML-Project\"\u001b[0m\n"
      ]
     },
     "metadata": {},
     "output_type": "display_data"
    },
    {
     "data": {
      "text/html": [
       "<pre style=\"white-space:pre;overflow-x:auto;line-height:normal;font-family:Menlo,'DejaVu Sans Mono',consolas,'Courier New',monospace\">Repository Gourab79/Brain-Cancer-Detector-End-to-End-ML-Project initialized!\n",
       "</pre>\n"
      ],
      "text/plain": [
       "Repository Gourab79/Brain-Cancer-Detector-End-to-End-ML-Project initialized!\n"
      ]
     },
     "metadata": {},
     "output_type": "display_data"
    },
    {
     "name": "stderr",
     "output_type": "stream",
     "text": [
      "2024/09/09 20:15:39 WARNING mlflow.models.model: Input example should be provided to infer model signature if the model signature is not provided when logging the model.\n",
      "2024/09/09 20:15:40 INFO mlflow.tracking._tracking_service.client: 🏃 View run luxuriant-moose-235 at: https://dagshub.com/Gourab79/Brain-Cancer-Detector-End-to-End-ML-Project.mlflow/#/experiments/0/runs/55f4f65d56c5404393ca27bec6d728d1.\n",
      "2024/09/09 20:15:40 INFO mlflow.tracking._tracking_service.client: 🧪 View experiment at: https://dagshub.com/Gourab79/Brain-Cancer-Detector-End-to-End-ML-Project.mlflow/#/experiments/0.\n"
     ]
    }
   ],
   "source": [
    "# adding metrics and params to mlflow \n",
    "import mlflow as mf\n",
    "import dagshub\n",
    "dagshub.init(repo_owner='Gourab79', repo_name='Brain-Cancer-Detector-End-to-End-ML-Project', mlflow=True)\n",
    "# Start MLflow run\n",
    "with mf.start_run():\n",
    "\n",
    "    # Log model parameters\n",
    "    mf.log_param(\"num_classes\", 4)\n",
    "    mf.log_param(\"conv_layers\", [\n",
    "        {\"kernel_size\": (4, 4), \"padding\": \"same\", \"activation\": \"relu\", \"strides\": (2,2), \"filters\": 25},\n",
    "        {\"kernel_size\": (4, 4), \"padding\": \"same\", \"activation\": \"relu\", \"strides\": (2,2), \"filters\": 25},\n",
    "        {\"kernel_size\": (4, 4), \"padding\": \"same\", \"activation\": \"relu\", \"strides\": (2,2), \"filters\": 25},\n",
    "        {\"kernel_size\": 3, \"padding\": \"same\", \"activation\": \"relu\", \"filters\": 16},\n",
    "        {\"kernel_size\": 3, \"padding\": \"same\", \"activation\": \"relu\", \"filters\": 16},\n",
    "        {\"kernel_size\": 3, \"padding\": \"same\", \"activation\": \"relu\", \"filters\": 16},\n",
    "    ])\n",
    "    mf.log_param(\"pooling_layers\", [\n",
    "        {\"pool_size\": (2, 2)},\n",
    "        {\"pool_size\": (2, 2)},\n",
    "        {\"pool_size\": (2, 2)},\n",
    "        {\"pool_size\": (2, 2)},\n",
    "    ])\n",
    "    mf.log_param(\"dropout_rate\", 0.2)\n",
    "    mf.log_param(\"dense_layers\", [\n",
    "        {\"units\": 128, \"activation\": \"relu\"},\n",
    "        {\"units\": 64, \"activation\": \"relu\"},\n",
    "        {\"units\": 12, \"activation\": \"relu\"},\n",
    "        {\"units\": 4, \"activation\": \"softmax\"},\n",
    "    ])\n",
    "    mf.log_param(\"optimizer\", \"adam\")\n",
    "    mf.log_param(\"loss_function\", \"SparseCategoricalCrossentropy\")\n",
    "    mf.log_param(\"metrics\", \"accuracy\")\n",
    "    mf.log_param(\"epochs\", 24)\n",
    "    mf.log_param(\"validation_split\", 0.2)\n",
    "\n",
    "    # Log classification report metrics\n",
    "    mf.log_metric(\"Glioma_precision\", 0.76)\n",
    "    mf.log_metric(\"Glioma_recall\", 0.66)\n",
    "    mf.log_metric(\"Glioma_f1_score\", 0.71)\n",
    "\n",
    "    mf.log_metric(\"Meningioma_precision\", 0.70)\n",
    "    mf.log_metric(\"Meningioma_recall\", 0.75)\n",
    "    mf.log_metric(\"Meningioma_f1_score\", 0.72)\n",
    "\n",
    "    mf.log_metric(\"No_Tumor_precision\", 0.82)\n",
    "    mf.log_metric(\"No_Tumor_recall\", 0.86)\n",
    "    mf.log_metric(\"No_Tumor_f1_score\", 0.84)\n",
    "\n",
    "    mf.log_metric(\"Pituitary_precision\", 0.90)\n",
    "    mf.log_metric(\"Pituitary_recall\", 0.90)\n",
    "    mf.log_metric(\"Pituitary_f1_score\", 0.90)\n",
    "    mf.sklearn.log_model(CNN_model, \"CNN\")\n"
   ]
  },
  {
   "cell_type": "code",
   "execution_count": 28,
   "id": "222610ee",
   "metadata": {},
   "outputs": [
    {
     "data": {
      "application/vnd.jupyter.widget-view+json": {
       "model_id": "7a39d344ccb4497c99e7d887d0060f8b",
       "version_major": 2,
       "version_minor": 0
      },
      "text/plain": [
       "Downloading artifacts:   0%|          | 0/5 [00:00<?, ?it/s]"
      ]
     },
     "metadata": {},
     "output_type": "display_data"
    },
    {
     "name": "stdout",
     "output_type": "stream",
     "text": [
      "\u001b[1m38/38\u001b[0m \u001b[32m━━━━━━━━━━━━━━━━━━━━\u001b[0m\u001b[37m\u001b[0m \u001b[1m3s\u001b[0m 53ms/step\n"
     ]
    },
    {
     "data": {
      "text/plain": [
       "array([[0.2379717 , 0.7105963 , 0.02962596, 0.02180606],\n",
       "       [0.04342366, 0.01827282, 0.01424058, 0.9240629 ],\n",
       "       [0.3514632 , 0.43090218, 0.00938431, 0.20825034],\n",
       "       ...,\n",
       "       [0.02041199, 0.01552758, 0.00567913, 0.9583813 ],\n",
       "       [0.3907071 , 0.15467419, 0.0125036 , 0.44211507],\n",
       "       [0.38833782, 0.55721843, 0.01051051, 0.04393319]], dtype=float32)"
      ]
     },
     "execution_count": 28,
     "metadata": {},
     "output_type": "execute_result"
    }
   ],
   "source": [
    "import mlflow\n",
    "logged_model = 'runs:/55f4f65d56c5404393ca27bec6d728d1/CNN'\n",
    "\n",
    "# Load model as a PyFuncModel.\n",
    "loaded_model = mlflow.pyfunc.load_model(logged_model)\n",
    "\n",
    "# Predict on a Pandas DataFrame.\n",
    "import pandas as pd\n",
    "loaded_model.predict(x_test_scaled)"
   ]
  },
  {
   "cell_type": "code",
   "execution_count": 42,
   "id": "e94fcc3f",
   "metadata": {},
   "outputs": [
    {
     "data": {
      "text/plain": [
       "mlflow.pyfunc.loaded_model:\n",
       "  artifact_path: CNN\n",
       "  flavor: mlflow.sklearn\n",
       "  run_id: 55f4f65d56c5404393ca27bec6d728d1"
      ]
     },
     "execution_count": 42,
     "metadata": {},
     "output_type": "execute_result"
    }
   ],
   "source": [
    "loaded_model"
   ]
  },
  {
   "cell_type": "code",
   "execution_count": null,
   "id": "902f60e8",
   "metadata": {},
   "outputs": [],
   "source": []
  }
 ],
 "metadata": {
  "kernelspec": {
   "display_name": "Python 3 (ipykernel)",
   "language": "python",
   "name": "python3"
  },
  "language_info": {
   "codemirror_mode": {
    "name": "ipython",
    "version": 3
   },
   "file_extension": ".py",
   "mimetype": "text/x-python",
   "name": "python",
   "nbconvert_exporter": "python",
   "pygments_lexer": "ipython3",
   "version": "3.11.5"
  }
 },
 "nbformat": 4,
 "nbformat_minor": 5
}
